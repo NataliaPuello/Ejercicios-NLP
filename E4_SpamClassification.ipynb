{
  "nbformat": 4,
  "nbformat_minor": 0,
  "metadata": {
    "colab": {
      "provenance": []
    },
    "kernelspec": {
      "display_name": "Python 3",
      "language": "python",
      "name": "python3"
    },
    "language_info": {
      "codemirror_mode": {
        "name": "ipython",
        "version": 3
      },
      "file_extension": ".py",
      "mimetype": "text/x-python",
      "name": "python",
      "nbconvert_exporter": "python",
      "pygments_lexer": "ipython3",
      "version": "3.6.13"
    }
  },
  "cells": [
    {
      "cell_type": "markdown",
      "metadata": {
        "id": "8Skr49zlgwe5"
      },
      "source": [
        "# Exercise 3\n",
        "## Spam Classification\n",
        "### Context\n",
        "The SMS Spam Collection is a set of SMS tagged messages that have been collected for SMS Spam research. It contains one set of SMS messages in English of 5,574 messages, tagged acording being ham (legitimate) or spam.\n",
        "\n",
        "### Content\n",
        "The files contain one message per line. Each line is composed by two columns: v1 contains the label (ham or spam) and v2 contains the raw text.\n",
        "\n",
        "This corpus has been collected from free or free for research sources at the Internet:\n",
        "\n",
        "- A collection of 425 SMS spam messages was manually extracted from the Grumbletext Web site. This is a UK forum in which cell phone users make public claims about SMS spam messages, most of them without reporting the very spam message received. The identification of the text of spam messages in the claims is a very hard and time-consuming task, and it involved carefully scanning hundreds of web pages. The Grumbletext Web site is: [Web Link](http://www.grumbletext.co.uk/).\n",
        "- A subset of 3,375 SMS randomly chosen ham messages of the NUS SMS Corpus (NSC), which is a dataset of about 10,000 legitimate messages collected for research at the Department of Computer Science at the National University of Singapore. The messages largely originate from Singaporeans and mostly from students attending the University. These messages were collected from volunteers who were made aware that their contributions were going to be made publicly available. The NUS SMS Corpus is avalaible at: [Web Link](http://www.comp.nus.edu.sg/~rpnlpir/downloads/corpora/smsCorpus/).\n",
        "- A list of 450 SMS ham messages collected from Caroline Tag's PhD Thesis available at [Web Link](http://etheses.bham.ac.uk/253/1/Tagg09PhD.pdf).\n",
        "- Finally, we have incorporated the SMS Spam Corpus v.0.1 Big. It has 1,002 SMS ham messages and 322 spam messages and it is public available at: [Web Link](http://www.esp.uem.es/jmgomez/smsspamcorpus/). This corpus has been used in the following academic researches:\n",
        "\n",
        "Acknowledgements\n",
        "The original dataset can be found [here](https://archive.ics.uci.edu/ml/datasets/SMS+Spam+Collection). The creators would like to note that in case you find the dataset useful, please make a reference to previous paper and the web page: http://www.dt.fee.unicamp.br/~tiago/smsspamcollection/ in your papers, research, etc.\n",
        "\n",
        "We offer a comprehensive study of this corpus in the following paper. This work presents a number of statistics, studies and baseline results for several machine learning methods.\n",
        "\n",
        "Almeida, T.A., GÃ³mez Hidalgo, J.M., Yamakami, A. Contributions to the Study of SMS Spam Filtering: New Collection and Results. Proceedings of the 2011 ACM Symposium on Document Engineering (DOCENG'11), Mountain View, CA, USA, 2011."
      ]
    },
    {
      "cell_type": "code",
      "source": [
        "!pip install wget"
      ],
      "metadata": {
        "colab": {
          "base_uri": "https://localhost:8080/"
        },
        "id": "sK8H8navE5Eo",
        "outputId": "f269790b-092a-4949-c515-3ae683a7587d"
      },
      "execution_count": null,
      "outputs": [
        {
          "output_type": "stream",
          "name": "stdout",
          "text": [
            "Collecting wget\n",
            "  Downloading wget-3.2.zip (10 kB)\n",
            "  Preparing metadata (setup.py) ... \u001b[?25l\u001b[?25hdone\n",
            "Building wheels for collected packages: wget\n",
            "  Building wheel for wget (setup.py) ... \u001b[?25l\u001b[?25hdone\n",
            "  Created wheel for wget: filename=wget-3.2-py3-none-any.whl size=9656 sha256=f0b006deda235407a059798dd618d0c92e46be3dcc728c03173c4c65e5e98afa\n",
            "  Stored in directory: /root/.cache/pip/wheels/8b/f1/7f/5c94f0a7a505ca1c81cd1d9208ae2064675d97582078e6c769\n",
            "Successfully built wget\n",
            "Installing collected packages: wget\n",
            "Successfully installed wget-3.2\n"
          ]
        }
      ]
    },
    {
      "cell_type": "code",
      "metadata": {
        "id": "vgef-TTiglKr",
        "colab": {
          "base_uri": "https://localhost:8080/"
        },
        "outputId": "f21d0237-f472-48fe-95f0-84acaff8d740"
      },
      "source": [
        "import pandas as pd\n",
        "import numpy as np\n",
        "import wget\n",
        "import os\n",
        "from zipfile import ZipFile\n",
        "\n",
        "from nltk.corpus import stopwords\n",
        "from nltk.tokenize import word_tokenize\n",
        "import nltk\n",
        "import string\n",
        "\n",
        "from sklearn.model_selection import train_test_split\n",
        "from sklearn.linear_model import LogisticRegression\n",
        "from sklearn.ensemble import RandomForestClassifier\n",
        "from sklearn.metrics import accuracy_score, precision_score, recall_score, f1_score, auc, roc_curve\n",
        "\n",
        "import gensim\n",
        "from gensim.models import Word2Vec\n",
        "import warnings\n",
        "\n",
        "\n",
        "warnings.filterwarnings('ignore')\n",
        "nltk.download('stopwords')\n",
        "nltk.download('punkt')"
      ],
      "execution_count": null,
      "outputs": [
        {
          "output_type": "stream",
          "name": "stderr",
          "text": [
            "[nltk_data] Downloading package stopwords to /root/nltk_data...\n",
            "[nltk_data]   Unzipping corpora/stopwords.zip.\n",
            "[nltk_data] Downloading package punkt to /root/nltk_data...\n",
            "[nltk_data]   Unzipping tokenizers/punkt.zip.\n"
          ]
        },
        {
          "output_type": "execute_result",
          "data": {
            "text/plain": [
              "True"
            ]
          },
          "metadata": {},
          "execution_count": 3
        }
      ]
    },
    {
      "cell_type": "code",
      "metadata": {
        "colab": {
          "base_uri": "https://localhost:8080/"
        },
        "id": "DmxHMGIEeNAl",
        "outputId": "4be6383b-12d3-43bc-dfce-1f25e15c8017"
      },
      "source": [
        "try :\n",
        "    from google.colab import files\n",
        "    !wget https://archive.ics.uci.edu/ml/machine-learning-databases/00228/smsspamcollection.zip\n",
        "    !unzip smsspamcollection.zip\n",
        "    df = pd.read_csv('SMSSpamCollection', sep='\\t',  header=None, names=['target', 'text'])\n",
        "except ModuleNotFoundError :\n",
        "    url = 'https://archive.ics.uci.edu/ml/machine-learning-databases/00228/smsspamcollection.zip'\n",
        "    path = os.getcwd()+'\\Data'\n",
        "    wget.download(url,path)\n",
        "    temp=path+'\\smsspamcollection.zip'\n",
        "    file = ZipFile(temp)\n",
        "    file.extractall(path)\n",
        "    file.close()\n",
        "    df = pd.read_csv(path + '\\SMSSpamCollection', sep='\\t',  header=None, names=['target', 'text'])"
      ],
      "execution_count": null,
      "outputs": [
        {
          "output_type": "stream",
          "name": "stdout",
          "text": [
            "--2024-03-23 00:54:08--  https://archive.ics.uci.edu/ml/machine-learning-databases/00228/smsspamcollection.zip\n",
            "Resolving archive.ics.uci.edu (archive.ics.uci.edu)... 128.195.10.252\n",
            "Connecting to archive.ics.uci.edu (archive.ics.uci.edu)|128.195.10.252|:443... connected.\n",
            "HTTP request sent, awaiting response... 200 OK\n",
            "Length: unspecified\n",
            "Saving to: ‘smsspamcollection.zip’\n",
            "\n",
            "smsspamcollection.z     [  <=>               ] 198.65K   511KB/s    in 0.4s    \n",
            "\n",
            "2024-03-23 00:54:10 (511 KB/s) - ‘smsspamcollection.zip’ saved [203415]\n",
            "\n",
            "Archive:  smsspamcollection.zip\n",
            "  inflating: SMSSpamCollection       \n",
            "  inflating: readme                  \n"
          ]
        }
      ]
    },
    {
      "cell_type": "code",
      "metadata": {
        "colab": {
          "base_uri": "https://localhost:8080/",
          "height": 204
        },
        "id": "hPwGRB3ghm7y",
        "outputId": "65780e30-5d57-4f21-b00c-371d1770dc1b"
      },
      "source": [
        "df.head()"
      ],
      "execution_count": null,
      "outputs": [
        {
          "output_type": "execute_result",
          "data": {
            "text/plain": [
              "  target                                               text\n",
              "0    ham  Go until jurong point, crazy.. Available only ...\n",
              "1    ham                      Ok lar... Joking wif u oni...\n",
              "2   spam  Free entry in 2 a wkly comp to win FA Cup fina...\n",
              "3    ham  U dun say so early hor... U c already then say...\n",
              "4    ham  Nah I don't think he goes to usf, he lives aro..."
            ],
            "text/html": [
              "\n",
              "  <div id=\"df-5a0c3a74-fcd0-41e4-b2d2-3d5be7aaedbb\" class=\"colab-df-container\">\n",
              "    <div>\n",
              "<style scoped>\n",
              "    .dataframe tbody tr th:only-of-type {\n",
              "        vertical-align: middle;\n",
              "    }\n",
              "\n",
              "    .dataframe tbody tr th {\n",
              "        vertical-align: top;\n",
              "    }\n",
              "\n",
              "    .dataframe thead th {\n",
              "        text-align: right;\n",
              "    }\n",
              "</style>\n",
              "<table border=\"1\" class=\"dataframe\">\n",
              "  <thead>\n",
              "    <tr style=\"text-align: right;\">\n",
              "      <th></th>\n",
              "      <th>target</th>\n",
              "      <th>text</th>\n",
              "    </tr>\n",
              "  </thead>\n",
              "  <tbody>\n",
              "    <tr>\n",
              "      <th>0</th>\n",
              "      <td>ham</td>\n",
              "      <td>Go until jurong point, crazy.. Available only ...</td>\n",
              "    </tr>\n",
              "    <tr>\n",
              "      <th>1</th>\n",
              "      <td>ham</td>\n",
              "      <td>Ok lar... Joking wif u oni...</td>\n",
              "    </tr>\n",
              "    <tr>\n",
              "      <th>2</th>\n",
              "      <td>spam</td>\n",
              "      <td>Free entry in 2 a wkly comp to win FA Cup fina...</td>\n",
              "    </tr>\n",
              "    <tr>\n",
              "      <th>3</th>\n",
              "      <td>ham</td>\n",
              "      <td>U dun say so early hor... U c already then say...</td>\n",
              "    </tr>\n",
              "    <tr>\n",
              "      <th>4</th>\n",
              "      <td>ham</td>\n",
              "      <td>Nah I don't think he goes to usf, he lives aro...</td>\n",
              "    </tr>\n",
              "  </tbody>\n",
              "</table>\n",
              "</div>\n",
              "    <div class=\"colab-df-buttons\">\n",
              "\n",
              "  <div class=\"colab-df-container\">\n",
              "    <button class=\"colab-df-convert\" onclick=\"convertToInteractive('df-5a0c3a74-fcd0-41e4-b2d2-3d5be7aaedbb')\"\n",
              "            title=\"Convert this dataframe to an interactive table.\"\n",
              "            style=\"display:none;\">\n",
              "\n",
              "  <svg xmlns=\"http://www.w3.org/2000/svg\" height=\"24px\" viewBox=\"0 -960 960 960\">\n",
              "    <path d=\"M120-120v-720h720v720H120Zm60-500h600v-160H180v160Zm220 220h160v-160H400v160Zm0 220h160v-160H400v160ZM180-400h160v-160H180v160Zm440 0h160v-160H620v160ZM180-180h160v-160H180v160Zm440 0h160v-160H620v160Z\"/>\n",
              "  </svg>\n",
              "    </button>\n",
              "\n",
              "  <style>\n",
              "    .colab-df-container {\n",
              "      display:flex;\n",
              "      gap: 12px;\n",
              "    }\n",
              "\n",
              "    .colab-df-convert {\n",
              "      background-color: #E8F0FE;\n",
              "      border: none;\n",
              "      border-radius: 50%;\n",
              "      cursor: pointer;\n",
              "      display: none;\n",
              "      fill: #1967D2;\n",
              "      height: 32px;\n",
              "      padding: 0 0 0 0;\n",
              "      width: 32px;\n",
              "    }\n",
              "\n",
              "    .colab-df-convert:hover {\n",
              "      background-color: #E2EBFA;\n",
              "      box-shadow: 0px 1px 2px rgba(60, 64, 67, 0.3), 0px 1px 3px 1px rgba(60, 64, 67, 0.15);\n",
              "      fill: #174EA6;\n",
              "    }\n",
              "\n",
              "    .colab-df-buttons div {\n",
              "      margin-bottom: 4px;\n",
              "    }\n",
              "\n",
              "    [theme=dark] .colab-df-convert {\n",
              "      background-color: #3B4455;\n",
              "      fill: #D2E3FC;\n",
              "    }\n",
              "\n",
              "    [theme=dark] .colab-df-convert:hover {\n",
              "      background-color: #434B5C;\n",
              "      box-shadow: 0px 1px 3px 1px rgba(0, 0, 0, 0.15);\n",
              "      filter: drop-shadow(0px 1px 2px rgba(0, 0, 0, 0.3));\n",
              "      fill: #FFFFFF;\n",
              "    }\n",
              "  </style>\n",
              "\n",
              "    <script>\n",
              "      const buttonEl =\n",
              "        document.querySelector('#df-5a0c3a74-fcd0-41e4-b2d2-3d5be7aaedbb button.colab-df-convert');\n",
              "      buttonEl.style.display =\n",
              "        google.colab.kernel.accessAllowed ? 'block' : 'none';\n",
              "\n",
              "      async function convertToInteractive(key) {\n",
              "        const element = document.querySelector('#df-5a0c3a74-fcd0-41e4-b2d2-3d5be7aaedbb');\n",
              "        const dataTable =\n",
              "          await google.colab.kernel.invokeFunction('convertToInteractive',\n",
              "                                                    [key], {});\n",
              "        if (!dataTable) return;\n",
              "\n",
              "        const docLinkHtml = 'Like what you see? Visit the ' +\n",
              "          '<a target=\"_blank\" href=https://colab.research.google.com/notebooks/data_table.ipynb>data table notebook</a>'\n",
              "          + ' to learn more about interactive tables.';\n",
              "        element.innerHTML = '';\n",
              "        dataTable['output_type'] = 'display_data';\n",
              "        await google.colab.output.renderOutput(dataTable, element);\n",
              "        const docLink = document.createElement('div');\n",
              "        docLink.innerHTML = docLinkHtml;\n",
              "        element.appendChild(docLink);\n",
              "      }\n",
              "    </script>\n",
              "  </div>\n",
              "\n",
              "\n",
              "<div id=\"df-2edbdbaa-1508-47d9-afab-9b586abe775a\">\n",
              "  <button class=\"colab-df-quickchart\" onclick=\"quickchart('df-2edbdbaa-1508-47d9-afab-9b586abe775a')\"\n",
              "            title=\"Suggest charts\"\n",
              "            style=\"display:none;\">\n",
              "\n",
              "<svg xmlns=\"http://www.w3.org/2000/svg\" height=\"24px\"viewBox=\"0 0 24 24\"\n",
              "     width=\"24px\">\n",
              "    <g>\n",
              "        <path d=\"M19 3H5c-1.1 0-2 .9-2 2v14c0 1.1.9 2 2 2h14c1.1 0 2-.9 2-2V5c0-1.1-.9-2-2-2zM9 17H7v-7h2v7zm4 0h-2V7h2v10zm4 0h-2v-4h2v4z\"/>\n",
              "    </g>\n",
              "</svg>\n",
              "  </button>\n",
              "\n",
              "<style>\n",
              "  .colab-df-quickchart {\n",
              "      --bg-color: #E8F0FE;\n",
              "      --fill-color: #1967D2;\n",
              "      --hover-bg-color: #E2EBFA;\n",
              "      --hover-fill-color: #174EA6;\n",
              "      --disabled-fill-color: #AAA;\n",
              "      --disabled-bg-color: #DDD;\n",
              "  }\n",
              "\n",
              "  [theme=dark] .colab-df-quickchart {\n",
              "      --bg-color: #3B4455;\n",
              "      --fill-color: #D2E3FC;\n",
              "      --hover-bg-color: #434B5C;\n",
              "      --hover-fill-color: #FFFFFF;\n",
              "      --disabled-bg-color: #3B4455;\n",
              "      --disabled-fill-color: #666;\n",
              "  }\n",
              "\n",
              "  .colab-df-quickchart {\n",
              "    background-color: var(--bg-color);\n",
              "    border: none;\n",
              "    border-radius: 50%;\n",
              "    cursor: pointer;\n",
              "    display: none;\n",
              "    fill: var(--fill-color);\n",
              "    height: 32px;\n",
              "    padding: 0;\n",
              "    width: 32px;\n",
              "  }\n",
              "\n",
              "  .colab-df-quickchart:hover {\n",
              "    background-color: var(--hover-bg-color);\n",
              "    box-shadow: 0 1px 2px rgba(60, 64, 67, 0.3), 0 1px 3px 1px rgba(60, 64, 67, 0.15);\n",
              "    fill: var(--button-hover-fill-color);\n",
              "  }\n",
              "\n",
              "  .colab-df-quickchart-complete:disabled,\n",
              "  .colab-df-quickchart-complete:disabled:hover {\n",
              "    background-color: var(--disabled-bg-color);\n",
              "    fill: var(--disabled-fill-color);\n",
              "    box-shadow: none;\n",
              "  }\n",
              "\n",
              "  .colab-df-spinner {\n",
              "    border: 2px solid var(--fill-color);\n",
              "    border-color: transparent;\n",
              "    border-bottom-color: var(--fill-color);\n",
              "    animation:\n",
              "      spin 1s steps(1) infinite;\n",
              "  }\n",
              "\n",
              "  @keyframes spin {\n",
              "    0% {\n",
              "      border-color: transparent;\n",
              "      border-bottom-color: var(--fill-color);\n",
              "      border-left-color: var(--fill-color);\n",
              "    }\n",
              "    20% {\n",
              "      border-color: transparent;\n",
              "      border-left-color: var(--fill-color);\n",
              "      border-top-color: var(--fill-color);\n",
              "    }\n",
              "    30% {\n",
              "      border-color: transparent;\n",
              "      border-left-color: var(--fill-color);\n",
              "      border-top-color: var(--fill-color);\n",
              "      border-right-color: var(--fill-color);\n",
              "    }\n",
              "    40% {\n",
              "      border-color: transparent;\n",
              "      border-right-color: var(--fill-color);\n",
              "      border-top-color: var(--fill-color);\n",
              "    }\n",
              "    60% {\n",
              "      border-color: transparent;\n",
              "      border-right-color: var(--fill-color);\n",
              "    }\n",
              "    80% {\n",
              "      border-color: transparent;\n",
              "      border-right-color: var(--fill-color);\n",
              "      border-bottom-color: var(--fill-color);\n",
              "    }\n",
              "    90% {\n",
              "      border-color: transparent;\n",
              "      border-bottom-color: var(--fill-color);\n",
              "    }\n",
              "  }\n",
              "</style>\n",
              "\n",
              "  <script>\n",
              "    async function quickchart(key) {\n",
              "      const quickchartButtonEl =\n",
              "        document.querySelector('#' + key + ' button');\n",
              "      quickchartButtonEl.disabled = true;  // To prevent multiple clicks.\n",
              "      quickchartButtonEl.classList.add('colab-df-spinner');\n",
              "      try {\n",
              "        const charts = await google.colab.kernel.invokeFunction(\n",
              "            'suggestCharts', [key], {});\n",
              "      } catch (error) {\n",
              "        console.error('Error during call to suggestCharts:', error);\n",
              "      }\n",
              "      quickchartButtonEl.classList.remove('colab-df-spinner');\n",
              "      quickchartButtonEl.classList.add('colab-df-quickchart-complete');\n",
              "    }\n",
              "    (() => {\n",
              "      let quickchartButtonEl =\n",
              "        document.querySelector('#df-2edbdbaa-1508-47d9-afab-9b586abe775a button');\n",
              "      quickchartButtonEl.style.display =\n",
              "        google.colab.kernel.accessAllowed ? 'block' : 'none';\n",
              "    })();\n",
              "  </script>\n",
              "</div>\n",
              "\n",
              "    </div>\n",
              "  </div>\n"
            ],
            "application/vnd.google.colaboratory.intrinsic+json": {
              "type": "dataframe",
              "variable_name": "df",
              "summary": "{\n  \"name\": \"df\",\n  \"rows\": 5572,\n  \"fields\": [\n    {\n      \"column\": \"target\",\n      \"properties\": {\n        \"dtype\": \"category\",\n        \"num_unique_values\": 2,\n        \"samples\": [\n          \"spam\",\n          \"ham\"\n        ],\n        \"semantic_type\": \"\",\n        \"description\": \"\"\n      }\n    },\n    {\n      \"column\": \"text\",\n      \"properties\": {\n        \"dtype\": \"string\",\n        \"num_unique_values\": 5169,\n        \"samples\": [\n          \"K, makes sense, btw carlos is being difficult so you guys are gonna smoke while I go pick up the second batch and get gas\",\n          \"URGENT! Your mobile No *********** WON a \\u00a32,000 Bonus Caller Prize on 02/06/03! This is the 2nd attempt to reach YOU! Call 09066362220 ASAP! BOX97N7QP, 150ppm\"\n        ],\n        \"semantic_type\": \"\",\n        \"description\": \"\"\n      }\n    }\n  ]\n}"
            }
          },
          "metadata": {},
          "execution_count": 5
        }
      ]
    },
    {
      "cell_type": "code",
      "metadata": {
        "colab": {
          "base_uri": "https://localhost:8080/",
          "height": 85
        },
        "id": "rKpOnNz9hq-x",
        "outputId": "82e746b8-ae5c-4123-8e5a-dd32ca35b9d0"
      },
      "source": [
        "display(df.shape) #Number of rows (instances) and columns in the dataset\n",
        "df[\"target\"].value_counts()/df.shape[0] #Class distribution in the dataset"
      ],
      "execution_count": null,
      "outputs": [
        {
          "output_type": "display_data",
          "data": {
            "text/plain": [
              "(5572, 2)"
            ]
          },
          "metadata": {}
        },
        {
          "output_type": "execute_result",
          "data": {
            "text/plain": [
              "ham     0.865937\n",
              "spam    0.134063\n",
              "Name: target, dtype: float64"
            ]
          },
          "metadata": {},
          "execution_count": 6
        }
      ]
    },
    {
      "cell_type": "code",
      "source": [
        "X = df['text']\n",
        "y = df['target'].map({'ham':0, 'spam':1})"
      ],
      "metadata": {
        "id": "2u_qu5GzGs7v"
      },
      "execution_count": null,
      "outputs": []
    },
    {
      "cell_type": "code",
      "source": [
        "# split data into training and validation set\n",
        "X_train, X_test, y_train, y_test = train_test_split(X, y, stratify = df['target'], test_size = 0.3, random_state = 18)"
      ],
      "metadata": {
        "id": "y6W-OsRvNJK8"
      },
      "execution_count": null,
      "outputs": []
    },
    {
      "cell_type": "markdown",
      "source": [
        "Preprocess the text data by removing stop words, converting all text to lowercase, and removing punctuation using NLTK package.\n"
      ],
      "metadata": {
        "id": "hUJxVPloNs8o"
      }
    },
    {
      "cell_type": "code",
      "source": [
        "stop_words = set(stopwords.words('english'))\n",
        "def preprocess(text):\n",
        "    text = text.lower()\n",
        "    text = ''.join([word for word in text if word not in string.punctuation])\n",
        "    tokens = word_tokenize(text)\n",
        "    tokens = [word for word in tokens if word not in stop_words]\n",
        "    return ' '.join(tokens)\n",
        "\n",
        "X_train = X_train.apply(preprocess)\n",
        "X_test = X_test.apply(preprocess)"
      ],
      "metadata": {
        "id": "8D2zWvpcNv-z"
      },
      "execution_count": null,
      "outputs": []
    },
    {
      "cell_type": "markdown",
      "source": [
        "Train a Word2Vec model on the preprocessed training data using Gensim package."
      ],
      "metadata": {
        "id": "hT3AWK7pOX5y"
      }
    },
    {
      "cell_type": "code",
      "source": [
        "sentences = [sentence.split() for sentence in X_train]\n",
        "model = Word2Vec(sentences, vector_size=100, window=5, negative=20, min_count=1, workers=4)"
      ],
      "metadata": {
        "id": "Gg_4OYMeObaV"
      },
      "execution_count": null,
      "outputs": []
    },
    {
      "cell_type": "markdown",
      "source": [
        "Convert the preprocessed text data to a vector representation using the Word2Vec model."
      ],
      "metadata": {
        "id": "ZJJPREbbOyon"
      }
    },
    {
      "cell_type": "code",
      "source": [
        "def vectorize(sentence):\n",
        "    words = sentence.split()\n",
        "    words_vecs = [model.wv[word] for word in words if word in model.wv]\n",
        "    if len(words_vecs) == 0:\n",
        "        return np.zeros(100)\n",
        "    words_vecs = np.array(words_vecs)\n",
        "    return words_vecs.mean(axis=0)\n",
        "\n",
        "X_train = np.array([vectorize(sentence) for sentence in X_train])\n",
        "X_test = np.array([vectorize(sentence) for sentence in X_test])"
      ],
      "metadata": {
        "id": "Qsg3iEZ0Ox8R"
      },
      "execution_count": null,
      "outputs": []
    },
    {
      "cell_type": "markdown",
      "source": [
        "Train a classification model such as logistic regression, random forests, or support vector machines using the vectorised training data and the sentiment labels."
      ],
      "metadata": {
        "id": "w8wdim2yPY8_"
      }
    },
    {
      "cell_type": "code",
      "source": [
        "clf = LogisticRegression()\n",
        "clf.fit(X_train, y_train)"
      ],
      "metadata": {
        "colab": {
          "base_uri": "https://localhost:8080/",
          "height": 74
        },
        "id": "Vxh6o9jgPOti",
        "outputId": "3d889799-20eb-48e7-9486-b68ca99db122"
      },
      "execution_count": null,
      "outputs": [
        {
          "output_type": "execute_result",
          "data": {
            "text/plain": [
              "LogisticRegression()"
            ],
            "text/html": [
              "<style>#sk-container-id-1 {color: black;background-color: white;}#sk-container-id-1 pre{padding: 0;}#sk-container-id-1 div.sk-toggleable {background-color: white;}#sk-container-id-1 label.sk-toggleable__label {cursor: pointer;display: block;width: 100%;margin-bottom: 0;padding: 0.3em;box-sizing: border-box;text-align: center;}#sk-container-id-1 label.sk-toggleable__label-arrow:before {content: \"▸\";float: left;margin-right: 0.25em;color: #696969;}#sk-container-id-1 label.sk-toggleable__label-arrow:hover:before {color: black;}#sk-container-id-1 div.sk-estimator:hover label.sk-toggleable__label-arrow:before {color: black;}#sk-container-id-1 div.sk-toggleable__content {max-height: 0;max-width: 0;overflow: hidden;text-align: left;background-color: #f0f8ff;}#sk-container-id-1 div.sk-toggleable__content pre {margin: 0.2em;color: black;border-radius: 0.25em;background-color: #f0f8ff;}#sk-container-id-1 input.sk-toggleable__control:checked~div.sk-toggleable__content {max-height: 200px;max-width: 100%;overflow: auto;}#sk-container-id-1 input.sk-toggleable__control:checked~label.sk-toggleable__label-arrow:before {content: \"▾\";}#sk-container-id-1 div.sk-estimator input.sk-toggleable__control:checked~label.sk-toggleable__label {background-color: #d4ebff;}#sk-container-id-1 div.sk-label input.sk-toggleable__control:checked~label.sk-toggleable__label {background-color: #d4ebff;}#sk-container-id-1 input.sk-hidden--visually {border: 0;clip: rect(1px 1px 1px 1px);clip: rect(1px, 1px, 1px, 1px);height: 1px;margin: -1px;overflow: hidden;padding: 0;position: absolute;width: 1px;}#sk-container-id-1 div.sk-estimator {font-family: monospace;background-color: #f0f8ff;border: 1px dotted black;border-radius: 0.25em;box-sizing: border-box;margin-bottom: 0.5em;}#sk-container-id-1 div.sk-estimator:hover {background-color: #d4ebff;}#sk-container-id-1 div.sk-parallel-item::after {content: \"\";width: 100%;border-bottom: 1px solid gray;flex-grow: 1;}#sk-container-id-1 div.sk-label:hover label.sk-toggleable__label {background-color: #d4ebff;}#sk-container-id-1 div.sk-serial::before {content: \"\";position: absolute;border-left: 1px solid gray;box-sizing: border-box;top: 0;bottom: 0;left: 50%;z-index: 0;}#sk-container-id-1 div.sk-serial {display: flex;flex-direction: column;align-items: center;background-color: white;padding-right: 0.2em;padding-left: 0.2em;position: relative;}#sk-container-id-1 div.sk-item {position: relative;z-index: 1;}#sk-container-id-1 div.sk-parallel {display: flex;align-items: stretch;justify-content: center;background-color: white;position: relative;}#sk-container-id-1 div.sk-item::before, #sk-container-id-1 div.sk-parallel-item::before {content: \"\";position: absolute;border-left: 1px solid gray;box-sizing: border-box;top: 0;bottom: 0;left: 50%;z-index: -1;}#sk-container-id-1 div.sk-parallel-item {display: flex;flex-direction: column;z-index: 1;position: relative;background-color: white;}#sk-container-id-1 div.sk-parallel-item:first-child::after {align-self: flex-end;width: 50%;}#sk-container-id-1 div.sk-parallel-item:last-child::after {align-self: flex-start;width: 50%;}#sk-container-id-1 div.sk-parallel-item:only-child::after {width: 0;}#sk-container-id-1 div.sk-dashed-wrapped {border: 1px dashed gray;margin: 0 0.4em 0.5em 0.4em;box-sizing: border-box;padding-bottom: 0.4em;background-color: white;}#sk-container-id-1 div.sk-label label {font-family: monospace;font-weight: bold;display: inline-block;line-height: 1.2em;}#sk-container-id-1 div.sk-label-container {text-align: center;}#sk-container-id-1 div.sk-container {/* jupyter's `normalize.less` sets `[hidden] { display: none; }` but bootstrap.min.css set `[hidden] { display: none !important; }` so we also need the `!important` here to be able to override the default hidden behavior on the sphinx rendered scikit-learn.org. See: https://github.com/scikit-learn/scikit-learn/issues/21755 */display: inline-block !important;position: relative;}#sk-container-id-1 div.sk-text-repr-fallback {display: none;}</style><div id=\"sk-container-id-1\" class=\"sk-top-container\"><div class=\"sk-text-repr-fallback\"><pre>LogisticRegression()</pre><b>In a Jupyter environment, please rerun this cell to show the HTML representation or trust the notebook. <br />On GitHub, the HTML representation is unable to render, please try loading this page with nbviewer.org.</b></div><div class=\"sk-container\" hidden><div class=\"sk-item\"><div class=\"sk-estimator sk-toggleable\"><input class=\"sk-toggleable__control sk-hidden--visually\" id=\"sk-estimator-id-1\" type=\"checkbox\" checked><label for=\"sk-estimator-id-1\" class=\"sk-toggleable__label sk-toggleable__label-arrow\">LogisticRegression</label><div class=\"sk-toggleable__content\"><pre>LogisticRegression()</pre></div></div></div></div></div>"
            ]
          },
          "metadata": {},
          "execution_count": 12
        }
      ]
    },
    {
      "cell_type": "markdown",
      "source": [
        "Evaluate the performance of the classification model on the testing set with the accuracy, precision, recall and F1 score."
      ],
      "metadata": {
        "id": "Lpa4X7l7PdO_"
      }
    },
    {
      "cell_type": "code",
      "source": [
        "y_pred = clf.predict(X_test)\n",
        "fpr, tpr, thresholds = roc_curve(y_test, y_pred)\n",
        "\n",
        "print('Accuracy:', accuracy_score(y_test, y_pred))\n",
        "print('AUC:', auc(fpr, tpr))"
      ],
      "metadata": {
        "colab": {
          "base_uri": "https://localhost:8080/"
        },
        "id": "dK5pgzC6Pd9y",
        "outputId": "9b2325cb-3a03-4451-909b-dd10ed3b17af"
      },
      "execution_count": null,
      "outputs": [
        {
          "output_type": "stream",
          "name": "stdout",
          "text": [
            "Accuracy: 0.8660287081339713\n",
            "AUC: 0.5\n"
          ]
        }
      ]
    },
    {
      "cell_type": "markdown",
      "source": [
        "# Excercise 3.1\n",
        "\n",
        "Remove stopwords, then predict target using CountVectorizer.\n",
        "\n",
        "use Random Forest classifier"
      ],
      "metadata": {
        "id": "bdkzBNohGAN4"
      }
    },
    {
      "cell_type": "code",
      "source": [
        "import pandas as pd\n",
        "import numpy as np\n",
        "from sklearn.model_selection import train_test_split\n",
        "from sklearn.feature_extraction.text import CountVectorizer\n",
        "from sklearn.ensemble import RandomForestClassifier\n",
        "from sklearn.metrics import accuracy_score, precision_score, recall_score, f1_score\n",
        "\n",
        "# Cargamos datos\n",
        "df = pd.read_csv('SMSSpamCollection', sep='\\t', header=None, names=['target', 'text'])\n",
        "\n",
        "# Separamos datos de entrenamiento y prueba\n",
        "X_train, X_test, y_train, y_test = train_test_split(df['text'], df['target'], test_size=0.3, random_state=18)\n",
        "\n",
        "# Creamos y ajustamos el vectorizador\n",
        "vectorizer = CountVectorizer(stop_words='english')\n",
        "X_train_vectorized = vectorizer.fit_transform(X_train)\n",
        "X_test_vectorized = vectorizer.transform(X_test)\n",
        "\n",
        "# Entrenamos el modelo\n",
        "clf = RandomForestClassifier()\n",
        "clf.fit(X_train_vectorized, y_train)\n",
        "\n",
        "# Predicción\n",
        "y_pred = clf.predict(X_test_vectorized)\n",
        "\n",
        "# Performance\n",
        "accuracy = accuracy_score(y_test, y_pred)\n",
        "precision = precision_score(y_test, y_pred, pos_label='spam')\n",
        "recall = recall_score(y_test, y_pred, pos_label='spam')\n",
        "f1 = f1_score(y_test, y_pred, pos_label='spam')\n",
        "\n",
        "print('Accuracy:', accuracy)\n",
        "print('Precision:', precision)\n",
        "print('Recall:', recall)\n",
        "print('F1 Score:', f1)\n"
      ],
      "metadata": {
        "id": "R31SL8VIIiQ2",
        "outputId": "1c9055e7-5e0f-4cde-e814-f39709caf2d8",
        "colab": {
          "base_uri": "https://localhost:8080/"
        }
      },
      "execution_count": null,
      "outputs": [
        {
          "output_type": "stream",
          "name": "stdout",
          "text": [
            "Accuracy: 0.9802631578947368\n",
            "Precision: 1.0\n",
            "Recall: 0.8457943925233645\n",
            "F1 Score: 0.9164556962025316\n"
          ]
        }
      ]
    },
    {
      "cell_type": "markdown",
      "source": [
        "# Excercise 3.2\n",
        "\n",
        "Predict target using TdidfVectorizer.\n",
        "\n",
        "use Random Forest classifier"
      ],
      "metadata": {
        "id": "pIFj3ETiIi4O"
      }
    },
    {
      "cell_type": "code",
      "source": [
        "from sklearn.feature_extraction.text import TfidfVectorizer\n",
        "\n",
        "vectorizer = TfidfVectorizer(stop_words='english')\n",
        "X_train_tfidf = vectorizer.fit_transform(X_train)\n",
        "X_test_tfidf = vectorizer.transform(X_test)\n",
        "\n",
        "# Entrenamos el clasificador Random Forest\n",
        "clf = RandomForestClassifier()\n",
        "clf.fit(X_train_tfidf, y_train)\n",
        "\n",
        "# Predecimos en test\n",
        "y_pred = clf.predict(X_test_tfidf)\n",
        "\n",
        "# Performance\n",
        "accuracy2 = accuracy_score(y_test, y_pred)\n",
        "precision2 = precision_score(y_test, y_pred, pos_label='spam')\n",
        "recall2 = recall_score(y_test, y_pred, pos_label='spam')\n",
        "f1_2 = f1_score(y_test, y_pred, pos_label='spam')\n",
        "\n",
        "print('Accuracy:', accuracy2)\n",
        "print('Precision:', precision2)\n",
        "print('Recall:', recall2)\n",
        "print('F1 Score:', f1_2)\n"
      ],
      "metadata": {
        "id": "jpaert_AI-6f",
        "outputId": "0a391851-b664-455c-da84-78312b5ea2ba",
        "colab": {
          "base_uri": "https://localhost:8080/"
        }
      },
      "execution_count": null,
      "outputs": [
        {
          "output_type": "stream",
          "name": "stdout",
          "text": [
            "Accuracy: 0.979066985645933\n",
            "Precision: 1.0\n",
            "Recall: 0.8364485981308412\n",
            "F1 Score: 0.910941475826972\n"
          ]
        }
      ]
    },
    {
      "cell_type": "markdown",
      "source": [
        "# Excercise 3.3\n",
        "\n",
        "Predict target using CountVectorizer or TfideVectorizer.\n",
        "\n",
        "choose any classification model and justify why"
      ],
      "metadata": {
        "id": "JIlTBKIeI_bf"
      }
    },
    {
      "cell_type": "code",
      "source": [
        "# Crear y ajustar el vectorizador TF-IDF\n",
        "vectorizer = TfidfVectorizer(stop_words='english')\n",
        "X_train_tfidf = vectorizer.fit_transform(X_train)\n",
        "X_test_tfidf = vectorizer.transform(X_test)\n",
        "\n",
        "# Entrenar el clasificador de Regresión Logística\n",
        "clf = LogisticRegression()\n",
        "clf.fit(X_train_tfidf, y_train)\n",
        "\n",
        "# Predecir en el conjunto de prueba\n",
        "y_pred = clf.predict(X_test_tfidf)\n",
        "\n",
        "# Performance\n",
        "accuracy = accuracy_score(y_test, y_pred)\n",
        "precision = precision_score(y_test, y_pred, pos_label='spam')\n",
        "recall = recall_score(y_test, y_pred, pos_label='spam')\n",
        "f1 = f1_score(y_test, y_pred, pos_label='spam')\n",
        "\n",
        "print('Accuracy:', accuracy)\n",
        "print('Precision:', precision)\n",
        "print('Recall:', recall)\n",
        "print('F1 Score:', f1)"
      ],
      "metadata": {
        "id": "A6V3wkIHJRkV",
        "outputId": "f85de1ea-bce0-4f6f-d846-cbabb108d079",
        "colab": {
          "base_uri": "https://localhost:8080/"
        }
      },
      "execution_count": null,
      "outputs": [
        {
          "output_type": "stream",
          "name": "stdout",
          "text": [
            "Accuracy: 0.9623205741626795\n",
            "Precision: 0.9870967741935484\n",
            "Recall: 0.7149532710280374\n",
            "F1 Score: 0.8292682926829268\n"
          ]
        }
      ]
    },
    {
      "cell_type": "code",
      "source": [
        "# La Regresión Logística es un modelo simple pero efectivo para problemas de clasificación binaria.\n",
        "# Es fácil de entender e interpretar, lo que lo hace útil para fines explicativos.\n",
        "# Además, es computacionalmente eficiente y funciona bien en conjuntos de datos grandes."
      ],
      "metadata": {
        "id": "KNgBG0CCYGx2"
      },
      "execution_count": null,
      "outputs": []
    },
    {
      "cell_type": "markdown",
      "source": [
        "# Excercise 3.4\n",
        "\n",
        "Increase and decrece the parameters values vector_size, window and negative then predict the target.\n",
        "\n",
        "Plot the different values of the parameters with the performance of the model.\n",
        "\n",
        "Use a Random Forest classifier and classification model of your choice and justify why."
      ],
      "metadata": {
        "id": "Nv3WOp-oKK8V"
      }
    },
    {
      "cell_type": "code",
      "source": [
        "# Cargar datos\n",
        "df = pd.read_csv('SMSSpamCollection', sep='\\t', header=None, names=['target', 'text'])\n",
        "\n",
        "# Train y test\n",
        "X_train, X_test, y_train, y_test = train_test_split(df['text'], df['target'], test_size=0.3, random_state=18)\n",
        "\n",
        "# Función de pre procesamiento de textos\n",
        "stop_words = set(stopwords.words('english'))\n",
        "def preprocess(text):\n",
        "    text = text.lower()\n",
        "    text = ''.join([word for word in text if word not in string.punctuation])\n",
        "    tokens = word_tokenize(text)\n",
        "    tokens = [word for word in tokens if word not in stop_words]\n",
        "    return ' '.join(tokens)\n",
        "\n",
        "# Preprocesado\n",
        "X_train_preprocessed = X_train.apply(preprocess)\n",
        "X_test_preprocessed = X_test.apply(preprocess)\n",
        "\n",
        "# Parametros\n",
        "vector_sizes = [50, 100, 150]\n",
        "windows = [3, 5, 7]\n",
        "negatives = [10, 15, 20]\n",
        "\n",
        "# Listas\n",
        "accuracies = []\n",
        "precisions = []\n",
        "recalls = []\n",
        "f1_scores = []\n",
        "param_combinations = []\n",
        "\n",
        "\n",
        "for vector_size in vector_sizes:\n",
        "    for window in windows:\n",
        "        for negative in negatives:\n",
        "            # Train Word2Vec model\n",
        "            sentences = [sentence.split() for sentence in X_train_preprocessed]\n",
        "            model = Word2Vec(sentences, vector_size=vector_size, window=window, negative=negative, min_count=1, workers=4)\n",
        "\n",
        "            # Vectorize training and testing data\n",
        "            X_train_vec = np.array([vectorize(sentence, model) for sentence in X_train_preprocessed])\n",
        "            X_test_vec = np.array([vectorize(sentence, model) for sentence in X_test_preprocessed])\n",
        "\n",
        "            # Train Random Forest classifier\n",
        "            clf = RandomForestClassifier()\n",
        "            clf.fit(X_train_vec, y_train)\n",
        "\n",
        "            # Predict on testing set\n",
        "            y_pred = clf.predict(X_test_vec)\n",
        "\n",
        "            # Performance\n",
        "            accuracy = accuracy_score(y_test, y_pred)\n",
        "            precision = precision_score(y_test, y_pred, pos_label='spam')\n",
        "            recall = recall_score(y_test, y_pred, pos_label='spam')\n",
        "            f1 = f1_score(y_test, y_pred, pos_label='spam')\n",
        "\n",
        "            # métricas en listas\n",
        "            accuracies.append(accuracy)\n",
        "            precisions.append(precision)\n",
        "            recalls.append(recall)\n",
        "            f1_scores.append(f1)\n",
        "            param_combinations.append((vector_size, window, negative))\n",
        "\n",
        "            print(f\"Vector Size: {vector_size}, Window: {window}, Negative: {negative}\")\n",
        "            print(f\"Accuracy: {accuracy}, Precision: {precision}, Recall: {recall}, F1 Score: {f1}\")\n",
        "            print(\"=\"*50)\n",
        "\n"
      ],
      "metadata": {
        "id": "dzKxjfSoeThI",
        "outputId": "bf3c9f8e-713f-480b-f2f3-c73ad65e22e5",
        "colab": {
          "base_uri": "https://localhost:8080/"
        }
      },
      "execution_count": null,
      "outputs": [
        {
          "output_type": "stream",
          "name": "stdout",
          "text": [
            "Vector Size: 50, Window: 3, Negative: 10\n",
            "Accuracy: 0.9186602870813397, Precision: 0.9431818181818182, Recall: 0.3878504672897196, F1 Score: 0.5496688741721854\n",
            "==================================================\n",
            "Vector Size: 50, Window: 3, Negative: 15\n",
            "Accuracy: 0.9252392344497608, Precision: 0.9320388349514563, Recall: 0.4485981308411215, F1 Score: 0.6056782334384858\n",
            "==================================================\n",
            "Vector Size: 50, Window: 3, Negative: 20\n",
            "Accuracy: 0.9258373205741627, Precision: 0.9591836734693877, Recall: 0.4392523364485981, F1 Score: 0.6025641025641026\n",
            "==================================================\n",
            "Vector Size: 50, Window: 5, Negative: 10\n",
            "Accuracy: 0.9300239234449761, Precision: 0.907563025210084, Recall: 0.5046728971962616, F1 Score: 0.6486486486486487\n",
            "==================================================\n",
            "Vector Size: 50, Window: 5, Negative: 15\n",
            "Accuracy: 0.9360047846889952, Precision: 0.9495798319327731, Recall: 0.5280373831775701, F1 Score: 0.6786786786786786\n",
            "==================================================\n",
            "Vector Size: 50, Window: 5, Negative: 20\n",
            "Accuracy: 0.9401913875598086, Precision: 0.9453125, Recall: 0.5654205607476636, F1 Score: 0.7076023391812866\n",
            "==================================================\n",
            "Vector Size: 50, Window: 7, Negative: 10\n",
            "Accuracy: 0.937799043062201, Precision: 0.9365079365079365, Recall: 0.5514018691588785, F1 Score: 0.6941176470588235\n",
            "==================================================\n",
            "Vector Size: 50, Window: 7, Negative: 15\n",
            "Accuracy: 0.9413875598086124, Precision: 0.9202898550724637, Recall: 0.5934579439252337, F1 Score: 0.7215909090909091\n",
            "==================================================\n",
            "Vector Size: 50, Window: 7, Negative: 20\n",
            "Accuracy: 0.9431818181818182, Precision: 0.9473684210526315, Recall: 0.5887850467289719, F1 Score: 0.7262247838616714\n",
            "==================================================\n",
            "Vector Size: 100, Window: 3, Negative: 10\n",
            "Accuracy: 0.9222488038277512, Precision: 1.0, Recall: 0.3925233644859813, F1 Score: 0.5637583892617449\n",
            "==================================================\n",
            "Vector Size: 100, Window: 3, Negative: 15\n",
            "Accuracy: 0.9276315789473685, Precision: 1.0, Recall: 0.43457943925233644, F1 Score: 0.6058631921824104\n",
            "==================================================\n",
            "Vector Size: 100, Window: 3, Negative: 20\n",
            "Accuracy: 0.9336124401913876, Precision: 0.963963963963964, Recall: 0.5, F1 Score: 0.6584615384615385\n",
            "==================================================\n",
            "Vector Size: 100, Window: 5, Negative: 10\n",
            "Accuracy: 0.9282296650717703, Precision: 0.9895833333333334, Recall: 0.4439252336448598, F1 Score: 0.6129032258064516\n",
            "==================================================\n",
            "Vector Size: 100, Window: 5, Negative: 15\n",
            "Accuracy: 0.9330143540669856, Precision: 0.9722222222222222, Recall: 0.49065420560747663, F1 Score: 0.6521739130434783\n",
            "==================================================\n",
            "Vector Size: 100, Window: 5, Negative: 20\n",
            "Accuracy: 0.9401913875598086, Precision: 0.9191176470588235, Recall: 0.5841121495327103, F1 Score: 0.7142857142857143\n",
            "==================================================\n",
            "Vector Size: 100, Window: 7, Negative: 10\n",
            "Accuracy: 0.9348086124401914, Precision: 0.9906542056074766, Recall: 0.4953271028037383, F1 Score: 0.660436137071651\n",
            "==================================================\n",
            "Vector Size: 100, Window: 7, Negative: 15\n",
            "Accuracy: 0.9431818181818182, Precision: 0.9612403100775194, Recall: 0.5794392523364486, F1 Score: 0.7230320699708455\n",
            "==================================================\n",
            "Vector Size: 100, Window: 7, Negative: 20\n",
            "Accuracy: 0.9431818181818182, Precision: 0.9407407407407408, Recall: 0.5934579439252337, F1 Score: 0.7277936962750715\n",
            "==================================================\n",
            "Vector Size: 150, Window: 3, Negative: 10\n",
            "Accuracy: 0.9240430622009569, Precision: 0.9887640449438202, Recall: 0.411214953271028, F1 Score: 0.5808580858085809\n",
            "==================================================\n",
            "Vector Size: 150, Window: 3, Negative: 15\n",
            "Accuracy: 0.9210526315789473, Precision: 0.9767441860465116, Recall: 0.3925233644859813, F1 Score: 0.5599999999999999\n",
            "==================================================\n",
            "Vector Size: 150, Window: 3, Negative: 20\n",
            "Accuracy: 0.9336124401913876, Precision: 1.0, Recall: 0.48130841121495327, F1 Score: 0.6498422712933754\n",
            "==================================================\n",
            "Vector Size: 150, Window: 5, Negative: 10\n",
            "Accuracy: 0.9342105263157895, Precision: 0.9814814814814815, Recall: 0.4953271028037383, F1 Score: 0.6583850931677019\n",
            "==================================================\n",
            "Vector Size: 150, Window: 5, Negative: 15\n",
            "Accuracy: 0.9324162679425837, Precision: 0.9902912621359223, Recall: 0.4766355140186916, F1 Score: 0.6435331230283912\n",
            "==================================================\n",
            "Vector Size: 150, Window: 5, Negative: 20\n",
            "Accuracy: 0.9431818181818182, Precision: 0.968503937007874, Recall: 0.5747663551401869, F1 Score: 0.721407624633431\n",
            "==================================================\n",
            "Vector Size: 150, Window: 7, Negative: 10\n",
            "Accuracy: 0.9389952153110048, Precision: 0.9590163934426229, Recall: 0.5467289719626168, F1 Score: 0.6964285714285714\n",
            "==================================================\n",
            "Vector Size: 150, Window: 7, Negative: 15\n",
            "Accuracy: 0.9419856459330144, Precision: 0.968, Recall: 0.5654205607476636, F1 Score: 0.7138643067846608\n",
            "==================================================\n",
            "Vector Size: 150, Window: 7, Negative: 20\n",
            "Accuracy: 0.9455741626794258, Precision: 0.9624060150375939, Recall: 0.5981308411214953, F1 Score: 0.7377521613832853\n",
            "==================================================\n"
          ]
        }
      ]
    },
    {
      "cell_type": "markdown",
      "source": [
        "parameter variation: `vector_size`"
      ],
      "metadata": {
        "id": "qI5fsc37Tg3Y"
      }
    },
    {
      "cell_type": "code",
      "source": [
        "# Paramtros iniciales\n",
        "vector_sizes = [50, 100, 150]\n",
        "window = 7\n",
        "negative = 20\n",
        "\n",
        "# Listas creación\n",
        "accuracy_scores = []\n",
        "vector_sizes_used = []\n",
        "\n",
        "for vector_size in vector_sizes:\n",
        "    # Train Word2Vec model\n",
        "    sentences = [sentence.split() for sentence in X_train_preprocessed]\n",
        "    model = Word2Vec(sentences, vector_size=vector_size, window=window, negative=negative, min_count=1, workers=4)\n",
        "\n",
        "    # Vectorize training and testing data\n",
        "    X_train_vec = np.array([vectorize(sentence, model) for sentence in X_train_preprocessed])\n",
        "    X_test_vec = np.array([vectorize(sentence, model) for sentence in X_test_preprocessed])\n",
        "\n",
        "    # Train Random Forest classifier\n",
        "    clf = RandomForestClassifier()\n",
        "    clf.fit(X_train_vec, y_train)\n",
        "\n",
        "    # Predict on testing set\n",
        "    y_pred = clf.predict(X_test_vec)\n",
        "\n",
        "    # Calcular accuracy\n",
        "    accuracy = accuracy_score(y_test, y_pred)\n",
        "\n",
        "    # Resultados en listas\n",
        "    accuracy_scores.append(accuracy)\n",
        "    vector_sizes_used.append(vector_size)\n",
        "\n",
        "plt.figure(figsize=(8, 6))\n",
        "plt.plot(vector_sizes_used, accuracy_scores, marker='o', linestyle='-')\n",
        "plt.title('Accuracy vs Vector Size')\n",
        "plt.xlabel('Vector Size')\n",
        "plt.ylabel('Accuracy')\n",
        "plt.xticks(vector_sizes_used)\n",
        "plt.grid(True)\n",
        "plt.show()"
      ],
      "metadata": {
        "id": "VMpe0Pz6iBHl",
        "outputId": "b7c9f91a-1304-40c5-ee92-06c71baeec75",
        "colab": {
          "base_uri": "https://localhost:8080/",
          "height": 564
        }
      },
      "execution_count": null,
      "outputs": [
        {
          "output_type": "display_data",
          "data": {
            "text/plain": [
              "<Figure size 800x600 with 1 Axes>"
            ],
            "image/png": "[encoded data removed]"
          },
          "metadata": {}
        }
      ]
    },
    {
      "cell_type": "markdown",
      "source": [
        "parameter variation: `window`"
      ],
      "metadata": {
        "id": "VVsQ2rSMTynE"
      }
    },
    {
      "cell_type": "code",
      "source": [
        "# Paramtros iniciales\n",
        "vector_size = 100\n",
        "windows = [3, 5, 7]\n",
        "negative = 20\n",
        "\n",
        "# Listas creación\n",
        "accuracy_scores = []\n",
        "window_sizes_used = []\n",
        "\n",
        "for window in windows:\n",
        "    # Train Word2Vec model\n",
        "    sentences = [sentence.split() for sentence in X_train_preprocessed]\n",
        "    model = Word2Vec(sentences, vector_size=vector_size, window=window, negative=negative, min_count=1, workers=4)\n",
        "\n",
        "    # Vectorize training and testing data\n",
        "    X_train_vec = np.array([vectorize(sentence, model) for sentence in X_train_preprocessed])\n",
        "    X_test_vec = np.array([vectorize(sentence, model) for sentence in X_test_preprocessed])\n",
        "\n",
        "    # Train Random Forest classifier\n",
        "    clf = RandomForestClassifier()\n",
        "    clf.fit(X_train_vec, y_train)\n",
        "\n",
        "    # Predict on testing set\n",
        "    y_pred = clf.predict(X_test_vec)\n",
        "\n",
        "    # Calcular accuracy\n",
        "    accuracy = accuracy_score(y_test, y_pred)\n",
        "\n",
        "    # Resultados en listas\n",
        "    accuracy_scores.append(accuracy)\n",
        "    window_sizes_used.append(window)\n",
        "\n",
        "plt.figure(figsize=(8, 6))\n",
        "plt.plot(window_sizes_used, accuracy_scores, marker='o', linestyle='-')\n",
        "plt.title('Accuracy vs Window Size')\n",
        "plt.xlabel('Window Size')\n",
        "plt.ylabel('Accuracy')\n",
        "plt.xticks(window_sizes_used)\n",
        "plt.grid(True)\n",
        "plt.show()"
      ],
      "metadata": {
        "id": "9f1Wqkokhp6l",
        "outputId": "57b0d986-6a66-49f6-a65f-56047abe556c",
        "colab": {
          "base_uri": "https://localhost:8080/",
          "height": 564
        }
      },
      "execution_count": null,
      "outputs": [
        {
          "output_type": "display_data",
          "data": {
            "text/plain": [
              "<Figure size 800x600 with 1 Axes>"
            ],
            "image/png": "[encoded data removed]"
          },
          "metadata": {}
        }
      ]
    },
    {
      "cell_type": "markdown",
      "source": [
        "parameter variation: `negative`"
      ],
      "metadata": {
        "id": "HXwksOx_Tz70"
      }
    },
    {
      "cell_type": "code",
      "source": [
        "# Paramtros iniciales\n",
        "vector_size = 100\n",
        "window = 7\n",
        "negatives = [10, 15, 20]\n",
        "\n",
        "# Listas creación\n",
        "accuracy_scores = []\n",
        "negative_values_used = []\n",
        "\n",
        "for negative in negatives:\n",
        "    # Train Word2Vec model\n",
        "    sentences = [sentence.split() for sentence in X_train_preprocessed]\n",
        "    model = Word2Vec(sentences, vector_size=vector_size, window=window, negative=negative, min_count=1, workers=4)\n",
        "\n",
        "    # Vectorize training and testing data\n",
        "    X_train_vec = np.array([vectorize(sentence, model) for sentence in X_train_preprocessed])\n",
        "    X_test_vec = np.array([vectorize(sentence, model) for sentence in X_test_preprocessed])\n",
        "\n",
        "    # Train Random Forest classifier\n",
        "    clf = RandomForestClassifier()\n",
        "    clf.fit(X_train_vec, y_train)\n",
        "\n",
        "    # Predict on testing set\n",
        "    y_pred = clf.predict(X_test_vec)\n",
        "\n",
        "    # Calcular accuracy\n",
        "    accuracy = accuracy_score(y_test, y_pred)\n",
        "\n",
        "    # Resultados en listas\n",
        "    accuracy_scores.append(accuracy)\n",
        "    negative_values_used.append(negative)\n",
        "\n",
        "plt.figure(figsize=(8, 6))\n",
        "plt.plot(negative_values_used, accuracy_scores, marker='o', linestyle='-')\n",
        "plt.title('Accuracy vs Negative Values')\n",
        "plt.xlabel('Negative Values')\n",
        "plt.ylabel('Accuracy')\n",
        "plt.xticks(negative_values_used)\n",
        "plt.grid(True)\n",
        "plt.show()"
      ],
      "metadata": {
        "id": "Q_5f3GAwhbU1",
        "outputId": "85f453b5-7854-47a5-a2f4-3a994b2a43a1",
        "colab": {
          "base_uri": "https://localhost:8080/",
          "height": 564
        }
      },
      "execution_count": null,
      "outputs": [
        {
          "output_type": "display_data",
          "data": {
            "text/plain": [
              "<Figure size 800x600 with 1 Axes>"
            ],
            "image/png": "[encoded data removed]"
          },
          "metadata": {}
        }
      ]
    },
    {
      "cell_type": "markdown",
      "source": [
        "Running best parameters `vector_size, window and negative` (All at the same time)"
      ],
      "metadata": {
        "id": "E278ShYhT-Vb"
      }
    },
    {
      "cell_type": "code",
      "metadata": {
        "id": "x0XWf1_5kg5q",
        "outputId": "7570ed03-2f46-41a8-97ff-cf4e1518d289",
        "colab": {
          "base_uri": "https://localhost:8080/",
          "height": 607
        }
      },
      "source": [
        "plt.figure(figsize=(10, 6))\n",
        "plt.plot(range(len(accuracies)), accuracies, marker='o', linestyle='-')\n",
        "plt.title('Accuracy vs Parameter Combinations')\n",
        "plt.xlabel('Parameter Combinations')\n",
        "plt.ylabel('Accuracy')\n",
        "plt.xticks(range(len(accuracies)), param_combinations, rotation=90)\n",
        "plt.tight_layout()\n",
        "plt.show()\n",
        "\n",
        "# El mejor modelo es aquel que tiene valores de parametros Vector size: 150, window:7 y negative: 20"
      ],
      "execution_count": null,
      "outputs": [
        {
          "output_type": "display_data",
          "data": {
            "text/plain": [
              "<Figure size 1000x600 with 1 Axes>"
            ],
            "image/png": "[encoded data removed]"
          },
          "metadata": {}
        }
      ]
    }
  ]
}