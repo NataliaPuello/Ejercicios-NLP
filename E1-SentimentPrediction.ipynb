{
  "cells": [
    {
      "cell_type": "markdown",
      "metadata": {
        "colab_type": "text",
        "id": "view-in-github"
      },
      "source": [
        "<a href=\"https://colab.research.google.com/github/sergiomora03/AdvancedTopicsAnalytics/blob/main/exercises/E1-SentimentPrediction.ipynb\" target=\"_parent\"><img src=\"https://colab.research.google.com/assets/colab-badge.svg\" alt=\"Open In Colab\"/></a>"
      ]
    },
    {
      "cell_type": "markdown",
      "metadata": {
        "id": "H9dNk-ySMIOE"
      },
      "source": [
        "# Exercise 1\n",
        "\n",
        "## Analyze how travelers expressed their feelings on Twitter\n",
        "\n",
        "A sentiment analysis job about the problems of each major U.S. airline.\n",
        "Twitter data was scraped from February of 2015 and contributors were\n",
        "asked to first classify positive, negative, and neutral tweets, followed\n",
        "by categorizing negative reasons (such as \"late flight\" or \"rude service\")."
      ]
    },
    {
      "cell_type": "code",
      "execution_count": 2,
      "metadata": {
        "colab": {
          "base_uri": "https://localhost:8080/",
          "height": 483
        },
        "id": "eQ6tgbFVMIOJ",
        "outputId": "3f580bd5-8597-4f79-c247-53eb8b1b8d88"
      },
      "outputs": [
        {
          "data": {
            "text/html": [
              "<div>\n",
              "<style scoped>\n",
              "    .dataframe tbody tr th:only-of-type {\n",
              "        vertical-align: middle;\n",
              "    }\n",
              "\n",
              "    .dataframe tbody tr th {\n",
              "        vertical-align: top;\n",
              "    }\n",
              "\n",
              "    .dataframe thead th {\n",
              "        text-align: right;\n",
              "    }\n",
              "</style>\n",
              "<table border=\"1\" class=\"dataframe\">\n",
              "  <thead>\n",
              "    <tr style=\"text-align: right;\">\n",
              "      <th></th>\n",
              "      <th>airline_sentiment</th>\n",
              "      <th>airline_sentiment_confidence</th>\n",
              "      <th>negativereason</th>\n",
              "      <th>negativereason_confidence</th>\n",
              "      <th>airline</th>\n",
              "      <th>airline_sentiment_gold</th>\n",
              "      <th>name</th>\n",
              "      <th>negativereason_gold</th>\n",
              "      <th>retweet_count</th>\n",
              "      <th>text</th>\n",
              "      <th>tweet_coord</th>\n",
              "      <th>tweet_created</th>\n",
              "      <th>tweet_location</th>\n",
              "      <th>user_timezone</th>\n",
              "    </tr>\n",
              "    <tr>\n",
              "      <th>tweet_id</th>\n",
              "      <th></th>\n",
              "      <th></th>\n",
              "      <th></th>\n",
              "      <th></th>\n",
              "      <th></th>\n",
              "      <th></th>\n",
              "      <th></th>\n",
              "      <th></th>\n",
              "      <th></th>\n",
              "      <th></th>\n",
              "      <th></th>\n",
              "      <th></th>\n",
              "      <th></th>\n",
              "      <th></th>\n",
              "    </tr>\n",
              "  </thead>\n",
              "  <tbody>\n",
              "    <tr>\n",
              "      <th>570306133677760513</th>\n",
              "      <td>neutral</td>\n",
              "      <td>1.0000</td>\n",
              "      <td>NaN</td>\n",
              "      <td>NaN</td>\n",
              "      <td>Virgin America</td>\n",
              "      <td>NaN</td>\n",
              "      <td>cairdin</td>\n",
              "      <td>NaN</td>\n",
              "      <td>0</td>\n",
              "      <td>@VirginAmerica What @dhepburn said.</td>\n",
              "      <td>NaN</td>\n",
              "      <td>2015-02-24 11:35:52 -0800</td>\n",
              "      <td>NaN</td>\n",
              "      <td>Eastern Time (US &amp; Canada)</td>\n",
              "    </tr>\n",
              "    <tr>\n",
              "      <th>570301130888122368</th>\n",
              "      <td>positive</td>\n",
              "      <td>0.3486</td>\n",
              "      <td>NaN</td>\n",
              "      <td>0.0000</td>\n",
              "      <td>Virgin America</td>\n",
              "      <td>NaN</td>\n",
              "      <td>jnardino</td>\n",
              "      <td>NaN</td>\n",
              "      <td>0</td>\n",
              "      <td>@VirginAmerica plus you've added commercials t...</td>\n",
              "      <td>NaN</td>\n",
              "      <td>2015-02-24 11:15:59 -0800</td>\n",
              "      <td>NaN</td>\n",
              "      <td>Pacific Time (US &amp; Canada)</td>\n",
              "    </tr>\n",
              "    <tr>\n",
              "      <th>570301083672813571</th>\n",
              "      <td>neutral</td>\n",
              "      <td>0.6837</td>\n",
              "      <td>NaN</td>\n",
              "      <td>NaN</td>\n",
              "      <td>Virgin America</td>\n",
              "      <td>NaN</td>\n",
              "      <td>yvonnalynn</td>\n",
              "      <td>NaN</td>\n",
              "      <td>0</td>\n",
              "      <td>@VirginAmerica I didn't today... Must mean I n...</td>\n",
              "      <td>NaN</td>\n",
              "      <td>2015-02-24 11:15:48 -0800</td>\n",
              "      <td>Lets Play</td>\n",
              "      <td>Central Time (US &amp; Canada)</td>\n",
              "    </tr>\n",
              "    <tr>\n",
              "      <th>570301031407624196</th>\n",
              "      <td>negative</td>\n",
              "      <td>1.0000</td>\n",
              "      <td>Bad Flight</td>\n",
              "      <td>0.7033</td>\n",
              "      <td>Virgin America</td>\n",
              "      <td>NaN</td>\n",
              "      <td>jnardino</td>\n",
              "      <td>NaN</td>\n",
              "      <td>0</td>\n",
              "      <td>@VirginAmerica it's really aggressive to blast...</td>\n",
              "      <td>NaN</td>\n",
              "      <td>2015-02-24 11:15:36 -0800</td>\n",
              "      <td>NaN</td>\n",
              "      <td>Pacific Time (US &amp; Canada)</td>\n",
              "    </tr>\n",
              "    <tr>\n",
              "      <th>570300817074462722</th>\n",
              "      <td>negative</td>\n",
              "      <td>1.0000</td>\n",
              "      <td>Can't Tell</td>\n",
              "      <td>1.0000</td>\n",
              "      <td>Virgin America</td>\n",
              "      <td>NaN</td>\n",
              "      <td>jnardino</td>\n",
              "      <td>NaN</td>\n",
              "      <td>0</td>\n",
              "      <td>@VirginAmerica and it's a really big bad thing...</td>\n",
              "      <td>NaN</td>\n",
              "      <td>2015-02-24 11:14:45 -0800</td>\n",
              "      <td>NaN</td>\n",
              "      <td>Pacific Time (US &amp; Canada)</td>\n",
              "    </tr>\n",
              "  </tbody>\n",
              "</table>\n",
              "</div>"
            ],
            "text/plain": [
              "                   airline_sentiment  airline_sentiment_confidence  \\\n",
              "tweet_id                                                             \n",
              "570306133677760513           neutral                        1.0000   \n",
              "570301130888122368          positive                        0.3486   \n",
              "570301083672813571           neutral                        0.6837   \n",
              "570301031407624196          negative                        1.0000   \n",
              "570300817074462722          negative                        1.0000   \n",
              "\n",
              "                   negativereason  negativereason_confidence         airline  \\\n",
              "tweet_id                                                                       \n",
              "570306133677760513            NaN                        NaN  Virgin America   \n",
              "570301130888122368            NaN                     0.0000  Virgin America   \n",
              "570301083672813571            NaN                        NaN  Virgin America   \n",
              "570301031407624196     Bad Flight                     0.7033  Virgin America   \n",
              "570300817074462722     Can't Tell                     1.0000  Virgin America   \n",
              "\n",
              "                   airline_sentiment_gold        name negativereason_gold  \\\n",
              "tweet_id                                                                    \n",
              "570306133677760513                    NaN     cairdin                 NaN   \n",
              "570301130888122368                    NaN    jnardino                 NaN   \n",
              "570301083672813571                    NaN  yvonnalynn                 NaN   \n",
              "570301031407624196                    NaN    jnardino                 NaN   \n",
              "570300817074462722                    NaN    jnardino                 NaN   \n",
              "\n",
              "                    retweet_count  \\\n",
              "tweet_id                            \n",
              "570306133677760513              0   \n",
              "570301130888122368              0   \n",
              "570301083672813571              0   \n",
              "570301031407624196              0   \n",
              "570300817074462722              0   \n",
              "\n",
              "                                                                 text  \\\n",
              "tweet_id                                                                \n",
              "570306133677760513                @VirginAmerica What @dhepburn said.   \n",
              "570301130888122368  @VirginAmerica plus you've added commercials t...   \n",
              "570301083672813571  @VirginAmerica I didn't today... Must mean I n...   \n",
              "570301031407624196  @VirginAmerica it's really aggressive to blast...   \n",
              "570300817074462722  @VirginAmerica and it's a really big bad thing...   \n",
              "\n",
              "                   tweet_coord              tweet_created tweet_location  \\\n",
              "tweet_id                                                                   \n",
              "570306133677760513         NaN  2015-02-24 11:35:52 -0800            NaN   \n",
              "570301130888122368         NaN  2015-02-24 11:15:59 -0800            NaN   \n",
              "570301083672813571         NaN  2015-02-24 11:15:48 -0800      Lets Play   \n",
              "570301031407624196         NaN  2015-02-24 11:15:36 -0800            NaN   \n",
              "570300817074462722         NaN  2015-02-24 11:14:45 -0800            NaN   \n",
              "\n",
              "                                 user_timezone  \n",
              "tweet_id                                        \n",
              "570306133677760513  Eastern Time (US & Canada)  \n",
              "570301130888122368  Pacific Time (US & Canada)  \n",
              "570301083672813571  Central Time (US & Canada)  \n",
              "570301031407624196  Pacific Time (US & Canada)  \n",
              "570300817074462722  Pacific Time (US & Canada)  "
            ]
          },
          "execution_count": 2,
          "metadata": {},
          "output_type": "execute_result"
        }
      ],
      "source": [
        "import pandas as pd\n",
        "import numpy as np\n",
        "\n",
        "%matplotlib inline\n",
        "import matplotlib.pyplot as plt\n",
        "\n",
        "# read the data and set the datetime as the index\n",
        "tweets = pd.read_csv('https://github.com/sergiomora03/AdvancedTopicsAnalytics/raw/main/datasets/Tweets.zip', index_col=0)\n",
        "\n",
        "tweets.head()"
      ]
    },
    {
      "cell_type": "code",
      "execution_count": 3,
      "metadata": {
        "colab": {
          "base_uri": "https://localhost:8080/"
        },
        "id": "2YdcURXjMIOL",
        "outputId": "2cd7dd62-b53d-413f-f3cf-8535d4dfa60b"
      },
      "outputs": [
        {
          "data": {
            "text/plain": [
              "(14640, 14)"
            ]
          },
          "execution_count": 3,
          "metadata": {},
          "output_type": "execute_result"
        }
      ],
      "source": [
        "tweets.shape"
      ]
    },
    {
      "cell_type": "markdown",
      "metadata": {
        "id": "O7zZWcOAMIOL"
      },
      "source": [
        "### Proportion of tweets with each sentiment"
      ]
    },
    {
      "cell_type": "code",
      "execution_count": 4,
      "metadata": {
        "colab": {
          "base_uri": "https://localhost:8080/"
        },
        "id": "UTaCANCfMIOM",
        "outputId": "05f414c8-feae-450c-a0c9-54967bfd1c10"
      },
      "outputs": [
        {
          "data": {
            "text/plain": [
              "negative    9178\n",
              "neutral     3099\n",
              "positive    2363\n",
              "Name: airline_sentiment, dtype: int64"
            ]
          },
          "execution_count": 4,
          "metadata": {},
          "output_type": "execute_result"
        }
      ],
      "source": [
        "tweets['airline_sentiment'].value_counts()"
      ]
    },
    {
      "cell_type": "markdown",
      "metadata": {
        "id": "OfgGVNvEMIOM"
      },
      "source": [
        "### Proportion of tweets per airline\n"
      ]
    },
    {
      "cell_type": "code",
      "execution_count": 5,
      "metadata": {
        "colab": {
          "base_uri": "https://localhost:8080/"
        },
        "id": "WcT95_IxMION",
        "outputId": "3dfac49d-cecc-4dfb-b7f9-d6fbba7f0636"
      },
      "outputs": [
        {
          "data": {
            "text/plain": [
              "United            3822\n",
              "US Airways        2913\n",
              "American          2759\n",
              "Southwest         2420\n",
              "Delta             2222\n",
              "Virgin America     504\n",
              "Name: airline, dtype: int64"
            ]
          },
          "execution_count": 5,
          "metadata": {},
          "output_type": "execute_result"
        }
      ],
      "source": [
        "tweets['airline'].value_counts()"
      ]
    },
    {
      "cell_type": "code",
      "execution_count": 6,
      "metadata": {
        "colab": {
          "base_uri": "https://localhost:8080/",
          "height": 544
        },
        "id": "HzceHJRDMION",
        "outputId": "ab1b0077-5dd4-4fa2-eba8-08f482dc8395"
      },
      "outputs": [
        {
          "data": {
            "text/plain": [
              "<AxesSubplot:>"
            ]
          },
          "execution_count": 6,
          "metadata": {},
          "output_type": "execute_result"
        },
        {
          "data": {
            "image/png": "[encoded data removed]",
            "text/plain": [
              "<Figure size 800x600 with 1 Axes>"
            ]
          },
          "metadata": {},
          "output_type": "display_data"
        }
      ],
      "source": [
        "pd.Series(tweets[\"airline\"]).value_counts().plot(kind = \"bar\",figsize=(8,6),rot = 0)"
      ]
    },
    {
      "cell_type": "code",
      "execution_count": 7,
      "metadata": {
        "colab": {
          "base_uri": "https://localhost:8080/",
          "height": 582
        },
        "id": "54bivdljMIOO",
        "outputId": "bbe9f836-4e32-4c90-b264-c966cf3d1a6d"
      },
      "outputs": [
        {
          "data": {
            "text/plain": [
              "<AxesSubplot:title={'center':'Sentiment by airline'}, xlabel='airline'>"
            ]
          },
          "execution_count": 7,
          "metadata": {},
          "output_type": "execute_result"
        },
        {
          "data": {
            "image/png": "[encoded data removed]",
            "text/plain": [
              "<Figure size 1000x600 with 1 Axes>"
            ]
          },
          "metadata": {},
          "output_type": "display_data"
        }
      ],
      "source": [
        "pd.crosstab(index = tweets[\"airline\"],columns = tweets[\"airline_sentiment\"]).plot(kind='bar',figsize=(10, 6),alpha=0.5,rot=0,stacked=True,title=\"Sentiment by airline\")"
      ]
    },
    {
      "cell_type": "markdown",
      "metadata": {
        "id": "Mmmr5X4pMIOP"
      },
      "source": [
        "# Exercise 1.1\n",
        "\n",
        "Predict the sentiment using CountVectorizer\n",
        "\n",
        "use Random Forest classifier"
      ]
    },
    {
      "cell_type": "code",
      "execution_count": 16,
      "metadata": {
        "id": "P8MdENPoMIOP"
      },
      "outputs": [],
      "source": [
        "#from sklearn.model_selection import train_test_split, cross_val_score\n",
        "#from sklearn.feature_extraction.text import CountVectorizer, TfidfVectorizer\n",
        "#from sklearn.ensemble import RandomForestClassifier\n",
        "#from nltk.stem.snowball import SnowballStemmer\n",
        "#from nltk.stem import WordNetLemmatizer\n",
        "#from sklearn.metrics import accuracy_score\n",
        "from sklearn.feature_extraction.text import ENGLISH_STOP_WORDS"
      ]
    },
    {
      "cell_type": "code",
      "execution_count": 9,
      "metadata": {
        "id": "555S1H6_MIOP"
      },
      "outputs": [],
      "source": [
        "X = tweets['text']\n",
        "y = tweets['airline_sentiment'].map({'negative':-1,'neutral':0,'positive':1})"
      ]
    },
    {
      "cell_type": "code",
      "execution_count": 10,
      "metadata": {},
      "outputs": [],
      "source": [
        "#split entre train y test\n",
        "X_train, X_test, y_train, y_test = train_test_split(X, y, test_size=0.2, random_state=42)\n"
      ]
    },
    {
      "cell_type": "code",
      "execution_count": 11,
      "metadata": {},
      "outputs": [],
      "source": [
        "#CountVectorizer\n",
        "vectorizer = CountVectorizer()\n",
        "X_train_vectorized = vectorizer.fit_transform(X_train)"
      ]
    },
    {
      "cell_type": "code",
      "execution_count": 12,
      "metadata": {},
      "outputs": [
        {
          "data": {
            "text/plain": [
              "RandomForestClassifier()"
            ]
          },
          "execution_count": 12,
          "metadata": {},
          "output_type": "execute_result"
        }
      ],
      "source": [
        "#RandomForestClassifier\n",
        "rf_classifier = RandomForestClassifier()\n",
        "rf_classifier.fit(X_train_vectorized, y_train)"
      ]
    },
    {
      "cell_type": "code",
      "execution_count": 15,
      "metadata": {},
      "outputs": [
        {
          "name": "stdout",
          "output_type": "stream",
          "text": [
            "Accuracy: 0.773224043715847\n"
          ]
        }
      ],
      "source": [
        "X_test_vectorized = vectorizer.transform(X_test)\n",
        "\n",
        "predictions = rf_classifier.predict(X_test_vectorized)\n",
        "\n",
        "accuracy = accuracy_score(y_test, predictions)\n",
        "print(\"Accuracy:\", accuracy)"
      ]
    },
    {
      "cell_type": "markdown",
      "metadata": {
        "id": "VGKjeUf6MIOQ"
      },
      "source": [
        "# Exercise 1.2\n",
        "\n",
        "Remove stopwords, then predict the sentiment using CountVectorizer.\n",
        "\n",
        "use Random Forest classifier"
      ]
    },
    {
      "cell_type": "code",
      "execution_count": 17,
      "metadata": {
        "id": "CEfmnF_dMIOQ"
      },
      "outputs": [],
      "source": [
        "#Se eliminan stop words\n",
        "custom_stopwords = set(ENGLISH_STOP_WORDS)"
      ]
    },
    {
      "cell_type": "code",
      "execution_count": 19,
      "metadata": {},
      "outputs": [
        {
          "name": "stdout",
          "output_type": "stream",
          "text": [
            "Accuracy: 0.7687841530054644\n"
          ]
        }
      ],
      "source": [
        "vectorizer = CountVectorizer(stop_words=custom_stopwords)\n",
        "\n",
        "X_train_vectorized = vectorizer.fit_transform(X_train)\n",
        "\n",
        "rf_classifier = RandomForestClassifier()\n",
        "rf_classifier.fit(X_train_vectorized, y_train)\n",
        "\n",
        "X_test_vectorized = vectorizer.transform(X_test)\n",
        "\n",
        "predictions = rf_classifier.predict(X_test_vectorized)\n",
        "\n",
        "accuracy = accuracy_score(y_test, predictions)\n",
        "print(\"Accuracy:\", accuracy)"
      ]
    },
    {
      "cell_type": "code",
      "execution_count": null,
      "metadata": {},
      "outputs": [],
      "source": [
        "#Disminuyó ACC un 1% al remover stop words"
      ]
    },
    {
      "cell_type": "markdown",
      "metadata": {
        "id": "WXsegR18MIOQ"
      },
      "source": [
        "# Exercise 1.3\n",
        "\n",
        "Increase n_grams size (with and without stopwords),  then predict the sentiment using CountVectorizer\n",
        "\n",
        "use Random Forest classifier"
      ]
    },
    {
      "cell_type": "code",
      "execution_count": 23,
      "metadata": {
        "id": "c7VVKnTUMIOQ"
      },
      "outputs": [],
      "source": [
        "#Función que haga predicción con y sin stopwords camciando ngram size\n",
        "def predict_sentiment_with_ngram_range(ngram_range):\n",
        "    X_train, X_test, y_train, y_test = train_test_split(X, y, test_size=0.2, random_state=42)\n",
        "    \n",
        "    #sin stopwords\n",
        "    vectorizer_without_stopwords = CountVectorizer(ngram_range=ngram_range)  \n",
        "    X_train_vectorized_without_stopwords = vectorizer_without_stopwords.fit_transform(X_train)\n",
        "    rf_classifier_without_stopwords = RandomForestClassifier()\n",
        "    rf_classifier_without_stopwords.fit(X_train_vectorized_without_stopwords, y_train)\n",
        "    X_test_vectorized_without_stopwords = vectorizer_without_stopwords.transform(X_test)\n",
        "    predictions_without_stopwords = rf_classifier_without_stopwords.predict(X_test_vectorized_without_stopwords)\n",
        "    accuracy_without_stopwords = accuracy_score(y_test, predictions_without_stopwords)\n",
        "    print(f\"Acc sin stopwords, ngram_range={ngram_range}: {accuracy_without_stopwords}\")\n",
        "\n",
        "    #co stopwords\n",
        "    custom_stopwords = set(ENGLISH_STOP_WORDS)\n",
        "    vectorizer_with_stopwords = CountVectorizer(stop_words=custom_stopwords, ngram_range=ngram_range) \n",
        "    X_train_vectorized_with_stopwords = vectorizer_with_stopwords.fit_transform(X_train)\n",
        "    rf_classifier_with_stopwords = RandomForestClassifier()\n",
        "    rf_classifier_with_stopwords.fit(X_train_vectorized_with_stopwords, y_train)\n",
        "    X_test_vectorized_with_stopwords = vectorizer_with_stopwords.transform(X_test)\n",
        "    predictions_with_stopwords = rf_classifier_with_stopwords.predict(X_test_vectorized_with_stopwords)\n",
        "    accuracy_with_stopwords = accuracy_score(y_test, predictions_with_stopwords)\n",
        "    print(f\"Acc con stopwords, ngram_range={ngram_range}: {accuracy_with_stopwords}\")\n"
      ]
    },
    {
      "cell_type": "code",
      "execution_count": 27,
      "metadata": {},
      "outputs": [
        {
          "name": "stdout",
          "output_type": "stream",
          "text": [
            "Acc sin stopwords, ngram_range=(0, 1): 0.7728825136612022\n",
            "Acc con stopwords, ngram_range=(0, 1): 0.766051912568306\n"
          ]
        }
      ],
      "source": [
        "predict_sentiment_with_ngram_range((0, 1))"
      ]
    },
    {
      "cell_type": "code",
      "execution_count": 24,
      "metadata": {},
      "outputs": [
        {
          "name": "stdout",
          "output_type": "stream",
          "text": [
            "Acc sin stopwords, ngram_range=(1, 2): 0.7718579234972678\n",
            "Acc con stopwords, ngram_range=(1, 2): 0.7674180327868853\n"
          ]
        }
      ],
      "source": [
        "predict_sentiment_with_ngram_range((1, 2))"
      ]
    },
    {
      "cell_type": "code",
      "execution_count": 25,
      "metadata": {},
      "outputs": [
        {
          "name": "stdout",
          "output_type": "stream",
          "text": [
            "Acc sin stopwords, ngram_range=(2, 3): 0.7380464480874317\n",
            "Acc con stopwords, ngram_range=(2, 3): 0.6099726775956285\n"
          ]
        }
      ],
      "source": [
        "predict_sentiment_with_ngram_range((2, 3))"
      ]
    },
    {
      "cell_type": "code",
      "execution_count": 26,
      "metadata": {},
      "outputs": [
        {
          "name": "stdout",
          "output_type": "stream",
          "text": [
            "Acc sin stopwords, ngram_range=(3, 4): 0.5396174863387978\n",
            "Acc con stopwords, ngram_range=(3, 4): 0.3015710382513661\n"
          ]
        }
      ],
      "source": [
        "predict_sentiment_with_ngram_range((3, 4))"
      ]
    },
    {
      "cell_type": "code",
      "execution_count": null,
      "metadata": {},
      "outputs": [],
      "source": [
        "#Como podemos obervar, el modelo tiene un mejor rendimieto con menor número de ngrams y sin stopwords"
      ]
    },
    {
      "cell_type": "markdown",
      "metadata": {
        "id": "fs25hLFsMIOR"
      },
      "source": [
        "# Exercise 1.4\n",
        "\n",
        "Predict the sentiment using TfidfVectorizer.\n",
        "\n",
        "use Random Forest classifier"
      ]
    },
    {
      "cell_type": "code",
      "execution_count": 28,
      "metadata": {
        "id": "JijThp6hMIOR"
      },
      "outputs": [
        {
          "name": "stdout",
          "output_type": "stream",
          "text": [
            "Accuracy: 0.7681010928961749\n"
          ]
        }
      ],
      "source": [
        "vectorizer = TfidfVectorizer(stop_words=custom_stopwords)\n",
        "X_train_vectorized = vectorizer.fit_transform(X_train)\n",
        "\n",
        "rf_classifier = RandomForestClassifier()\n",
        "rf_classifier.fit(X_train_vectorized, y_train)\n",
        "\n",
        "X_test_vectorized = vectorizer.transform(X_test)\n",
        "\n",
        "predictions = rf_classifier.predict(X_test_vectorized)\n",
        "\n",
        "accuracy = accuracy_score(y_test, predictions)\n",
        "print(\"Accuracy:\", accuracy)"
      ]
    }
  ],
  "metadata": {
    "colab": {
      "include_colab_link": true,
      "provenance": []
    },
    "kernelspec": {
      "display_name": "Python 3",
      "language": "python",
      "name": "python3"
    },
    "language_info": {
      "codemirror_mode": {
        "name": "ipython",
        "version": 3
      },
      "file_extension": ".py",
      "mimetype": "text/x-python",
      "name": "python",
      "nbconvert_exporter": "python",
      "pygments_lexer": "ipython3",
      "version": "3.9.13"
    }
  },
  "nbformat": 4,
  "nbformat_minor": 0
}
